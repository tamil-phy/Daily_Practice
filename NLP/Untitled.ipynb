{
 "cells": [
  {
   "cell_type": "code",
   "execution_count": 7,
   "id": "c81aad32",
   "metadata": {},
   "outputs": [
    {
     "name": "stderr",
     "output_type": "stream",
     "text": [
      "[nltk_data] Downloading package punkt to /home/leo/nltk_data...\n",
      "[nltk_data]   Unzipping tokenizers/punkt.zip.\n"
     ]
    },
    {
     "data": {
      "text/plain": [
       "True"
      ]
     },
     "execution_count": 7,
     "metadata": {},
     "output_type": "execute_result"
    }
   ],
   "source": [
    "from nltk.tokenize import sent_tokenize, word_tokenize\n",
    "import nltk\n",
    "nltk.download('punkt')"
   ]
  },
  {
   "cell_type": "code",
   "execution_count": 8,
   "id": "7b9bd805",
   "metadata": {},
   "outputs": [],
   "source": [
    "example_string = \"\"\"I maintain that Truth is a pathless land, and you cannot approach it by any path whatsoever, by any religion, by any sect. That is my point of view, and I adhere to that absolutely and unconditionally. Truth, being limitless, unconditioned, unapproachable by any path whatsoever, cannot be organized; nor should any organization be formed to lead or to coerce people along any particular path. If you first understand that, then you will see how impossible it is to organize a belief. A belief is purely an individual matter, and you cannot and must not organize it. If you do, it becomes dead, crystallized; it becomes a creed, a sect, a religion, to be imposed on others. This is what everyone throughout the world is attempting to do. Truth is narrowed down and made a plaything for those who are weak, for those who are only momentarily discontented. Truth cannot be brought down, rather the individual must make the effort to ascend to it. You cannot bring the mountain-top to the valley. If you would attain to the mountain-top you must pass through the valley, climb the steeps, unafraid of the dangerous precipices.\"\"\""
   ]
  },
  {
   "cell_type": "code",
   "execution_count": 9,
   "id": "7b2f8270",
   "metadata": {},
   "outputs": [
    {
     "data": {
      "text/plain": [
       "['I maintain that Truth is a pathless land, and you cannot approach it by any path whatsoever, by any religion, by any sect.',\n",
       " 'That is my point of view, and I adhere to that absolutely and unconditionally.',\n",
       " 'Truth, being limitless, unconditioned, unapproachable by any path whatsoever, cannot be organized; nor should any organization be formed to lead or to coerce people along any particular path.',\n",
       " 'If you first understand that, then you will see how impossible it is to organize a belief.',\n",
       " 'A belief is purely an individual matter, and you cannot and must not organize it.',\n",
       " 'If you do, it becomes dead, crystallized; it becomes a creed, a sect, a religion, to be imposed on others.',\n",
       " 'This is what everyone throughout the world is attempting to do.',\n",
       " 'Truth is narrowed down and made a plaything for those who are weak, for those who are only momentarily discontented.',\n",
       " 'Truth cannot be brought down, rather the individual must make the effort to ascend to it.',\n",
       " 'You cannot bring the mountain-top to the valley.',\n",
       " 'If you would attain to the mountain-top you must pass through the valley, climb the steeps, unafraid of the dangerous precipices.']"
      ]
     },
     "execution_count": 9,
     "metadata": {},
     "output_type": "execute_result"
    }
   ],
   "source": [
    "sent_tokenize(example_string)"
   ]
  },
  {
   "cell_type": "code",
   "execution_count": 10,
   "id": "ff1f9249",
   "metadata": {},
   "outputs": [
    {
     "data": {
      "text/plain": [
       "['I',\n",
       " 'maintain',\n",
       " 'that',\n",
       " 'Truth',\n",
       " 'is',\n",
       " 'a',\n",
       " 'pathless',\n",
       " 'land',\n",
       " ',',\n",
       " 'and',\n",
       " 'you',\n",
       " 'can',\n",
       " 'not',\n",
       " 'approach',\n",
       " 'it',\n",
       " 'by',\n",
       " 'any',\n",
       " 'path',\n",
       " 'whatsoever',\n",
       " ',',\n",
       " 'by',\n",
       " 'any',\n",
       " 'religion',\n",
       " ',',\n",
       " 'by',\n",
       " 'any',\n",
       " 'sect',\n",
       " '.',\n",
       " 'That',\n",
       " 'is',\n",
       " 'my',\n",
       " 'point',\n",
       " 'of',\n",
       " 'view',\n",
       " ',',\n",
       " 'and',\n",
       " 'I',\n",
       " 'adhere',\n",
       " 'to',\n",
       " 'that',\n",
       " 'absolutely',\n",
       " 'and',\n",
       " 'unconditionally',\n",
       " '.',\n",
       " 'Truth',\n",
       " ',',\n",
       " 'being',\n",
       " 'limitless',\n",
       " ',',\n",
       " 'unconditioned',\n",
       " ',',\n",
       " 'unapproachable',\n",
       " 'by',\n",
       " 'any',\n",
       " 'path',\n",
       " 'whatsoever',\n",
       " ',',\n",
       " 'can',\n",
       " 'not',\n",
       " 'be',\n",
       " 'organized',\n",
       " ';',\n",
       " 'nor',\n",
       " 'should',\n",
       " 'any',\n",
       " 'organization',\n",
       " 'be',\n",
       " 'formed',\n",
       " 'to',\n",
       " 'lead',\n",
       " 'or',\n",
       " 'to',\n",
       " 'coerce',\n",
       " 'people',\n",
       " 'along',\n",
       " 'any',\n",
       " 'particular',\n",
       " 'path',\n",
       " '.',\n",
       " 'If',\n",
       " 'you',\n",
       " 'first',\n",
       " 'understand',\n",
       " 'that',\n",
       " ',',\n",
       " 'then',\n",
       " 'you',\n",
       " 'will',\n",
       " 'see',\n",
       " 'how',\n",
       " 'impossible',\n",
       " 'it',\n",
       " 'is',\n",
       " 'to',\n",
       " 'organize',\n",
       " 'a',\n",
       " 'belief',\n",
       " '.',\n",
       " 'A',\n",
       " 'belief',\n",
       " 'is',\n",
       " 'purely',\n",
       " 'an',\n",
       " 'individual',\n",
       " 'matter',\n",
       " ',',\n",
       " 'and',\n",
       " 'you',\n",
       " 'can',\n",
       " 'not',\n",
       " 'and',\n",
       " 'must',\n",
       " 'not',\n",
       " 'organize',\n",
       " 'it',\n",
       " '.',\n",
       " 'If',\n",
       " 'you',\n",
       " 'do',\n",
       " ',',\n",
       " 'it',\n",
       " 'becomes',\n",
       " 'dead',\n",
       " ',',\n",
       " 'crystallized',\n",
       " ';',\n",
       " 'it',\n",
       " 'becomes',\n",
       " 'a',\n",
       " 'creed',\n",
       " ',',\n",
       " 'a',\n",
       " 'sect',\n",
       " ',',\n",
       " 'a',\n",
       " 'religion',\n",
       " ',',\n",
       " 'to',\n",
       " 'be',\n",
       " 'imposed',\n",
       " 'on',\n",
       " 'others',\n",
       " '.',\n",
       " 'This',\n",
       " 'is',\n",
       " 'what',\n",
       " 'everyone',\n",
       " 'throughout',\n",
       " 'the',\n",
       " 'world',\n",
       " 'is',\n",
       " 'attempting',\n",
       " 'to',\n",
       " 'do',\n",
       " '.',\n",
       " 'Truth',\n",
       " 'is',\n",
       " 'narrowed',\n",
       " 'down',\n",
       " 'and',\n",
       " 'made',\n",
       " 'a',\n",
       " 'plaything',\n",
       " 'for',\n",
       " 'those',\n",
       " 'who',\n",
       " 'are',\n",
       " 'weak',\n",
       " ',',\n",
       " 'for',\n",
       " 'those',\n",
       " 'who',\n",
       " 'are',\n",
       " 'only',\n",
       " 'momentarily',\n",
       " 'discontented',\n",
       " '.',\n",
       " 'Truth',\n",
       " 'can',\n",
       " 'not',\n",
       " 'be',\n",
       " 'brought',\n",
       " 'down',\n",
       " ',',\n",
       " 'rather',\n",
       " 'the',\n",
       " 'individual',\n",
       " 'must',\n",
       " 'make',\n",
       " 'the',\n",
       " 'effort',\n",
       " 'to',\n",
       " 'ascend',\n",
       " 'to',\n",
       " 'it',\n",
       " '.',\n",
       " 'You',\n",
       " 'can',\n",
       " 'not',\n",
       " 'bring',\n",
       " 'the',\n",
       " 'mountain-top',\n",
       " 'to',\n",
       " 'the',\n",
       " 'valley',\n",
       " '.',\n",
       " 'If',\n",
       " 'you',\n",
       " 'would',\n",
       " 'attain',\n",
       " 'to',\n",
       " 'the',\n",
       " 'mountain-top',\n",
       " 'you',\n",
       " 'must',\n",
       " 'pass',\n",
       " 'through',\n",
       " 'the',\n",
       " 'valley',\n",
       " ',',\n",
       " 'climb',\n",
       " 'the',\n",
       " 'steeps',\n",
       " ',',\n",
       " 'unafraid',\n",
       " 'of',\n",
       " 'the',\n",
       " 'dangerous',\n",
       " 'precipices',\n",
       " '.']"
      ]
     },
     "execution_count": 10,
     "metadata": {},
     "output_type": "execute_result"
    }
   ],
   "source": [
    "word_tokenize(example_string)"
   ]
  },
  {
   "cell_type": "code",
   "execution_count": 11,
   "id": "7e717e0c",
   "metadata": {},
   "outputs": [
    {
     "name": "stderr",
     "output_type": "stream",
     "text": [
      "[nltk_data] Downloading package stopwords to /home/leo/nltk_data...\n",
      "[nltk_data]   Unzipping corpora/stopwords.zip.\n"
     ]
    }
   ],
   "source": [
    "nltk.download(\"stopwords\")\n",
    "from nltk.corpus import stopwords\n",
    "from nltk.tokenize import word_tokenize"
   ]
  },
  {
   "cell_type": "code",
   "execution_count": 12,
   "id": "f2f9172d",
   "metadata": {},
   "outputs": [],
   "source": [
    "feynman_quote = \"I think for lesson number one, to learn a mystic formula for answering questions is very bad.\"\n"
   ]
  },
  {
   "cell_type": "code",
   "execution_count": 13,
   "id": "7df8c78d",
   "metadata": {},
   "outputs": [],
   "source": [
    "words_in_quote = word_tokenize(feynman_quote)"
   ]
  },
  {
   "cell_type": "code",
   "execution_count": 14,
   "id": "810702e4",
   "metadata": {},
   "outputs": [
    {
     "data": {
      "text/plain": [
       "['I',\n",
       " 'think',\n",
       " 'for',\n",
       " 'lesson',\n",
       " 'number',\n",
       " 'one',\n",
       " ',',\n",
       " 'to',\n",
       " 'learn',\n",
       " 'a',\n",
       " 'mystic',\n",
       " 'formula',\n",
       " 'for',\n",
       " 'answering',\n",
       " 'questions',\n",
       " 'is',\n",
       " 'very',\n",
       " 'bad',\n",
       " '.']"
      ]
     },
     "execution_count": 14,
     "metadata": {},
     "output_type": "execute_result"
    }
   ],
   "source": [
    "words_in_quote"
   ]
  },
  {
   "cell_type": "code",
   "execution_count": 15,
   "id": "13c22937",
   "metadata": {},
   "outputs": [],
   "source": [
    "stop_words = set(stopwords.words(\"english\"))"
   ]
  },
  {
   "cell_type": "code",
   "execution_count": 16,
   "id": "d12debbe",
   "metadata": {},
   "outputs": [],
   "source": [
    "filtered_list = []"
   ]
  },
  {
   "cell_type": "code",
   "execution_count": 17,
   "id": "500deaf2",
   "metadata": {},
   "outputs": [],
   "source": [
    "for word in words_in_quote:\n",
    "    if word.casefold() not in stop_words:\n",
    "        filtered_list.append(word)\n"
   ]
  },
  {
   "cell_type": "code",
   "execution_count": 18,
   "id": "3d3496e5",
   "metadata": {},
   "outputs": [
    {
     "data": {
      "text/plain": [
       "['think',\n",
       " 'lesson',\n",
       " 'number',\n",
       " 'one',\n",
       " ',',\n",
       " 'learn',\n",
       " 'mystic',\n",
       " 'formula',\n",
       " 'answering',\n",
       " 'questions',\n",
       " 'bad',\n",
       " '.']"
      ]
     },
     "execution_count": 18,
     "metadata": {},
     "output_type": "execute_result"
    }
   ],
   "source": [
    "filtered_list"
   ]
  },
  {
   "cell_type": "markdown",
   "id": "ffe560af",
   "metadata": {},
   "source": [
    "Stemming is a text processing task in which you reduce words to their root, which is the core part of a word. For example, the words “helping” and “helper” share the root “help.” Stemming allows you to zero in on the basic meaning of a word rather than all the details of how it’s being used. NLTK has more than one stemmer, but you’ll be using the Porter stemmer."
   ]
  },
  {
   "cell_type": "code",
   "execution_count": 19,
   "id": "0becf5ee",
   "metadata": {},
   "outputs": [],
   "source": [
    "from nltk.stem import PorterStemmer\n",
    "from nltk.tokenize import word_tokenize\n"
   ]
  },
  {
   "cell_type": "code",
   "execution_count": 21,
   "id": "a3100139",
   "metadata": {},
   "outputs": [],
   "source": [
    "stemmer = PorterStemmer()"
   ]
  },
  {
   "cell_type": "code",
   "execution_count": 22,
   "id": "a0786111",
   "metadata": {},
   "outputs": [],
   "source": [
    "string_for_stemming = \"\"\" The crew of the USS Discovery discovered many discoveries.\n",
    "Discovering is what explorers do.\"\"\""
   ]
  },
  {
   "cell_type": "code",
   "execution_count": 23,
   "id": "884dccdc",
   "metadata": {},
   "outputs": [],
   "source": [
    "words = word_tokenize(string_for_stemming)"
   ]
  },
  {
   "cell_type": "code",
   "execution_count": 24,
   "id": "1eb42f39",
   "metadata": {},
   "outputs": [
    {
     "data": {
      "text/plain": [
       "['The',\n",
       " 'crew',\n",
       " 'of',\n",
       " 'the',\n",
       " 'USS',\n",
       " 'Discovery',\n",
       " 'discovered',\n",
       " 'many',\n",
       " 'discoveries',\n",
       " '.',\n",
       " 'Discovering',\n",
       " 'is',\n",
       " 'what',\n",
       " 'explorers',\n",
       " 'do',\n",
       " '.']"
      ]
     },
     "execution_count": 24,
     "metadata": {},
     "output_type": "execute_result"
    }
   ],
   "source": [
    "words"
   ]
  },
  {
   "cell_type": "code",
   "execution_count": 25,
   "id": "18155ebc",
   "metadata": {},
   "outputs": [],
   "source": [
    "stemmed_words = [stemmer.stem(word) for word in words]"
   ]
  },
  {
   "cell_type": "code",
   "execution_count": 26,
   "id": "c646ba55",
   "metadata": {},
   "outputs": [
    {
     "data": {
      "text/plain": [
       "['the',\n",
       " 'crew',\n",
       " 'of',\n",
       " 'the',\n",
       " 'uss',\n",
       " 'discoveri',\n",
       " 'discov',\n",
       " 'mani',\n",
       " 'discoveri',\n",
       " '.',\n",
       " 'discov',\n",
       " 'is',\n",
       " 'what',\n",
       " 'explor',\n",
       " 'do',\n",
       " '.']"
      ]
     },
     "execution_count": 26,
     "metadata": {},
     "output_type": "execute_result"
    }
   ],
   "source": [
    "stemmed_words"
   ]
  },
  {
   "cell_type": "markdown",
   "id": "79b4eaba",
   "metadata": {},
   "source": [
    "# Tagging Parts of Speech\n",
    "\n",
    "Part of speech is a grammatical term that deals with the roles words play when you use them together in sentences. Tagging parts of speech, or POS tagging, is the task of labeling the words in your text according to their part of speech."
   ]
  },
  {
   "cell_type": "code",
   "execution_count": 47,
   "id": "058867cb",
   "metadata": {},
   "outputs": [
    {
     "name": "stderr",
     "output_type": "stream",
     "text": [
      "[nltk_data] Downloading package averaged_perceptron_tagger to\n",
      "[nltk_data]     /home/leo/nltk_data...\n",
      "[nltk_data]   Package averaged_perceptron_tagger is already up-to-\n",
      "[nltk_data]       date!\n",
      "[nltk_data] Downloading package tagsets to /home/leo/nltk_data...\n",
      "[nltk_data]   Package tagsets is already up-to-date!\n",
      "[nltk_data] Downloading package wordnet to /home/leo/nltk_data...\n",
      "[nltk_data]   Package wordnet is already up-to-date!\n",
      "[nltk_data] Downloading package omw-1.4 to /home/leo/nltk_data...\n"
     ]
    },
    {
     "data": {
      "text/plain": [
       "True"
      ]
     },
     "execution_count": 47,
     "metadata": {},
     "output_type": "execute_result"
    }
   ],
   "source": [
    "import nltk\n",
    "nltk.download('averaged_perceptron_tagger')\n",
    "nltk.download('tagsets')\n",
    "nltk.download('wordnet')\n",
    "nltk.download('omw-1.4')"
   ]
  },
  {
   "cell_type": "code",
   "execution_count": 30,
   "id": "ca4ba8bc",
   "metadata": {},
   "outputs": [],
   "source": [
    "words_in_feynman_quote = word_tokenize(feynman_quote)"
   ]
  },
  {
   "cell_type": "code",
   "execution_count": 31,
   "id": "4e675164",
   "metadata": {},
   "outputs": [
    {
     "data": {
      "text/plain": [
       "[('I', 'PRP'),\n",
       " ('think', 'VBP'),\n",
       " ('for', 'IN'),\n",
       " ('lesson', 'NN'),\n",
       " ('number', 'NN'),\n",
       " ('one', 'CD'),\n",
       " (',', ','),\n",
       " ('to', 'TO'),\n",
       " ('learn', 'VB'),\n",
       " ('a', 'DT'),\n",
       " ('mystic', 'JJ'),\n",
       " ('formula', 'NN'),\n",
       " ('for', 'IN'),\n",
       " ('answering', 'VBG'),\n",
       " ('questions', 'NNS'),\n",
       " ('is', 'VBZ'),\n",
       " ('very', 'RB'),\n",
       " ('bad', 'JJ'),\n",
       " ('.', '.')]"
      ]
     },
     "execution_count": 31,
     "metadata": {},
     "output_type": "execute_result"
    }
   ],
   "source": [
    "nltk.pos_tag(words_in_feynman_quote)"
   ]
  },
  {
   "cell_type": "code",
   "execution_count": 34,
   "id": "b27b1cdc",
   "metadata": {},
   "outputs": [
    {
     "name": "stdout",
     "output_type": "stream",
     "text": [
      "$: dollar\n",
      "    $ -$ --$ A$ C$ HK$ M$ NZ$ S$ U.S.$ US$\n",
      "'': closing quotation mark\n",
      "    ' ''\n",
      "(: opening parenthesis\n",
      "    ( [ {\n",
      "): closing parenthesis\n",
      "    ) ] }\n",
      ",: comma\n",
      "    ,\n",
      "--: dash\n",
      "    --\n",
      ".: sentence terminator\n",
      "    . ! ?\n",
      ":: colon or ellipsis\n",
      "    : ; ...\n",
      "CC: conjunction, coordinating\n",
      "    & 'n and both but either et for less minus neither nor or plus so\n",
      "    therefore times v. versus vs. whether yet\n",
      "CD: numeral, cardinal\n",
      "    mid-1890 nine-thirty forty-two one-tenth ten million 0.5 one forty-\n",
      "    seven 1987 twenty '79 zero two 78-degrees eighty-four IX '60s .025\n",
      "    fifteen 271,124 dozen quintillion DM2,000 ...\n",
      "DT: determiner\n",
      "    all an another any both del each either every half la many much nary\n",
      "    neither no some such that the them these this those\n",
      "EX: existential there\n",
      "    there\n",
      "FW: foreign word\n",
      "    gemeinschaft hund ich jeux habeas Haementeria Herr K'ang-si vous\n",
      "    lutihaw alai je jour objets salutaris fille quibusdam pas trop Monte\n",
      "    terram fiche oui corporis ...\n",
      "IN: preposition or conjunction, subordinating\n",
      "    astride among uppon whether out inside pro despite on by throughout\n",
      "    below within for towards near behind atop around if like until below\n",
      "    next into if beside ...\n",
      "JJ: adjective or numeral, ordinal\n",
      "    third ill-mannered pre-war regrettable oiled calamitous first separable\n",
      "    ectoplasmic battery-powered participatory fourth still-to-be-named\n",
      "    multilingual multi-disciplinary ...\n",
      "JJR: adjective, comparative\n",
      "    bleaker braver breezier briefer brighter brisker broader bumper busier\n",
      "    calmer cheaper choosier cleaner clearer closer colder commoner costlier\n",
      "    cozier creamier crunchier cuter ...\n",
      "JJS: adjective, superlative\n",
      "    calmest cheapest choicest classiest cleanest clearest closest commonest\n",
      "    corniest costliest crassest creepiest crudest cutest darkest deadliest\n",
      "    dearest deepest densest dinkiest ...\n",
      "LS: list item marker\n",
      "    A A. B B. C C. D E F First G H I J K One SP-44001 SP-44002 SP-44005\n",
      "    SP-44007 Second Third Three Two * a b c d first five four one six three\n",
      "    two\n",
      "MD: modal auxiliary\n",
      "    can cannot could couldn't dare may might must need ought shall should\n",
      "    shouldn't will would\n",
      "NN: noun, common, singular or mass\n",
      "    common-carrier cabbage knuckle-duster Casino afghan shed thermostat\n",
      "    investment slide humour falloff slick wind hyena override subhumanity\n",
      "    machinist ...\n",
      "NNP: noun, proper, singular\n",
      "    Motown Venneboerger Czestochwa Ranzer Conchita Trumplane Christos\n",
      "    Oceanside Escobar Kreisler Sawyer Cougar Yvette Ervin ODI Darryl CTCA\n",
      "    Shannon A.K.C. Meltex Liverpool ...\n",
      "NNPS: noun, proper, plural\n",
      "    Americans Americas Amharas Amityvilles Amusements Anarcho-Syndicalists\n",
      "    Andalusians Andes Andruses Angels Animals Anthony Antilles Antiques\n",
      "    Apache Apaches Apocrypha ...\n",
      "NNS: noun, common, plural\n",
      "    undergraduates scotches bric-a-brac products bodyguards facets coasts\n",
      "    divestitures storehouses designs clubs fragrances averages\n",
      "    subjectivists apprehensions muses factory-jobs ...\n",
      "PDT: pre-determiner\n",
      "    all both half many quite such sure this\n",
      "POS: genitive marker\n",
      "    ' 's\n",
      "PRP: pronoun, personal\n",
      "    hers herself him himself hisself it itself me myself one oneself ours\n",
      "    ourselves ownself self she thee theirs them themselves they thou thy us\n",
      "PRP$: pronoun, possessive\n",
      "    her his mine my our ours their thy your\n",
      "RB: adverb\n",
      "    occasionally unabatingly maddeningly adventurously professedly\n",
      "    stirringly prominently technologically magisterially predominately\n",
      "    swiftly fiscally pitilessly ...\n",
      "RBR: adverb, comparative\n",
      "    further gloomier grander graver greater grimmer harder harsher\n",
      "    healthier heavier higher however larger later leaner lengthier less-\n",
      "    perfectly lesser lonelier longer louder lower more ...\n",
      "RBS: adverb, superlative\n",
      "    best biggest bluntest earliest farthest first furthest hardest\n",
      "    heartiest highest largest least less most nearest second tightest worst\n",
      "RP: particle\n",
      "    aboard about across along apart around aside at away back before behind\n",
      "    by crop down ever fast for forth from go high i.e. in into just later\n",
      "    low more off on open out over per pie raising start teeth that through\n",
      "    under unto up up-pp upon whole with you\n",
      "SYM: symbol\n",
      "    % & ' '' ''. ) ). * + ,. < = > @ A[fj] U.S U.S.S.R * ** ***\n",
      "TO: \"to\" as preposition or infinitive marker\n",
      "    to\n",
      "UH: interjection\n",
      "    Goodbye Goody Gosh Wow Jeepers Jee-sus Hubba Hey Kee-reist Oops amen\n",
      "    huh howdy uh dammit whammo shucks heck anyways whodunnit honey golly\n",
      "    man baby diddle hush sonuvabitch ...\n",
      "VB: verb, base form\n",
      "    ask assemble assess assign assume atone attention avoid bake balkanize\n",
      "    bank begin behold believe bend benefit bevel beware bless boil bomb\n",
      "    boost brace break bring broil brush build ...\n",
      "VBD: verb, past tense\n",
      "    dipped pleaded swiped regummed soaked tidied convened halted registered\n",
      "    cushioned exacted snubbed strode aimed adopted belied figgered\n",
      "    speculated wore appreciated contemplated ...\n",
      "VBG: verb, present participle or gerund\n",
      "    telegraphing stirring focusing angering judging stalling lactating\n",
      "    hankerin' alleging veering capping approaching traveling besieging\n",
      "    encrypting interrupting erasing wincing ...\n",
      "VBN: verb, past participle\n",
      "    multihulled dilapidated aerosolized chaired languished panelized used\n",
      "    experimented flourished imitated reunifed factored condensed sheared\n",
      "    unsettled primed dubbed desired ...\n",
      "VBP: verb, present tense, not 3rd person singular\n",
      "    predominate wrap resort sue twist spill cure lengthen brush terminate\n",
      "    appear tend stray glisten obtain comprise detest tease attract\n",
      "    emphasize mold postpone sever return wag ...\n",
      "VBZ: verb, present tense, 3rd person singular\n",
      "    bases reconstructs marks mixes displeases seals carps weaves snatches\n",
      "    slumps stretches authorizes smolders pictures emerges stockpiles\n",
      "    seduces fizzes uses bolsters slaps speaks pleads ...\n",
      "WDT: WH-determiner\n",
      "    that what whatever which whichever\n",
      "WP: WH-pronoun\n",
      "    that what whatever whatsoever which who whom whosoever\n",
      "WP$: WH-pronoun, possessive\n",
      "    whose\n",
      "WRB: Wh-adverb\n",
      "    how however whence whenever where whereby whereever wherein whereof why\n",
      "``: opening quotation mark\n",
      "    ` ``\n"
     ]
    }
   ],
   "source": [
    "nltk.help.upenn_tagset()\n"
   ]
  },
  {
   "cell_type": "code",
   "execution_count": 35,
   "id": "bf2e1ddf",
   "metadata": {},
   "outputs": [],
   "source": [
    "from nltk.stem import WordNetLemmatizer"
   ]
  },
  {
   "cell_type": "code",
   "execution_count": 36,
   "id": "7f511b0a",
   "metadata": {},
   "outputs": [],
   "source": [
    "lemmatizer = WordNetLemmatizer()"
   ]
  },
  {
   "cell_type": "code",
   "execution_count": 42,
   "id": "3b61a481",
   "metadata": {},
   "outputs": [
    {
     "data": {
      "text/plain": [
       "'I think for lesson number one, to learn a mystic formula for answering questions is very bad.'"
      ]
     },
     "execution_count": 42,
     "metadata": {},
     "output_type": "execute_result"
    }
   ],
   "source": [
    "string_for_lemmatizing = feynman_quote\n",
    "string_for_lemmatizing"
   ]
  },
  {
   "cell_type": "code",
   "execution_count": 43,
   "id": "f3bc3ccf",
   "metadata": {},
   "outputs": [],
   "source": [
    "words = word_tokenize(string_for_lemmatizing)\n"
   ]
  },
  {
   "cell_type": "code",
   "execution_count": 48,
   "id": "34135280",
   "metadata": {},
   "outputs": [],
   "source": [
    "lemmatized_words = [lemmatizer.lemmatize(word) for word in words]\n"
   ]
  },
  {
   "cell_type": "code",
   "execution_count": 49,
   "id": "0d731139",
   "metadata": {},
   "outputs": [
    {
     "data": {
      "text/plain": [
       "['I',\n",
       " 'think',\n",
       " 'for',\n",
       " 'lesson',\n",
       " 'number',\n",
       " 'one',\n",
       " ',',\n",
       " 'to',\n",
       " 'learn',\n",
       " 'a',\n",
       " 'mystic',\n",
       " 'formula',\n",
       " 'for',\n",
       " 'answering',\n",
       " 'question',\n",
       " 'is',\n",
       " 'very',\n",
       " 'bad',\n",
       " '.']"
      ]
     },
     "execution_count": 49,
     "metadata": {},
     "output_type": "execute_result"
    }
   ],
   "source": [
    "lemmatized_words"
   ]
  },
  {
   "cell_type": "code",
   "execution_count": null,
   "id": "9aec0459",
   "metadata": {},
   "outputs": [],
   "source": []
  }
 ],
 "metadata": {
  "kernelspec": {
   "display_name": "Python 3 (ipykernel)",
   "language": "python",
   "name": "python3"
  },
  "language_info": {
   "codemirror_mode": {
    "name": "ipython",
    "version": 3
   },
   "file_extension": ".py",
   "mimetype": "text/x-python",
   "name": "python",
   "nbconvert_exporter": "python",
   "pygments_lexer": "ipython3",
   "version": "3.8.10"
  }
 },
 "nbformat": 4,
 "nbformat_minor": 5
}
