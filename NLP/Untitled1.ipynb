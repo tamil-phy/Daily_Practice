{
 "cells": [
  {
   "cell_type": "code",
   "execution_count": 7,
   "id": "f8692259",
   "metadata": {},
   "outputs": [],
   "source": [
    "text = \"+91-8940383848\""
   ]
  },
  {
   "cell_type": "code",
   "execution_count": 13,
   "id": "d2da1e3b",
   "metadata": {},
   "outputs": [
    {
     "data": {
      "text/plain": [
       "'8'"
      ]
     },
     "execution_count": 13,
     "metadata": {},
     "output_type": "execute_result"
    }
   ],
   "source": [
    "text[13]"
   ]
  },
  {
   "cell_type": "code",
   "execution_count": 9,
   "id": "d16e84e4",
   "metadata": {},
   "outputs": [
    {
     "data": {
      "text/plain": [
       "14"
      ]
     },
     "execution_count": 9,
     "metadata": {},
     "output_type": "execute_result"
    }
   ],
   "source": [
    "len(text)"
   ]
  },
  {
   "cell_type": "code",
   "execution_count": 5,
   "id": "6f13d388",
   "metadata": {},
   "outputs": [
    {
     "name": "stdout",
     "output_type": "stream",
     "text": [
      "123344\n"
     ]
    }
   ],
   "source": [
    "text = input(str()) "
   ]
  },
  {
   "cell_type": "code",
   "execution_count": 6,
   "id": "f1eaa6fa",
   "metadata": {},
   "outputs": [
    {
     "data": {
      "text/plain": [
       "'123344'"
      ]
     },
     "execution_count": 6,
     "metadata": {},
     "output_type": "execute_result"
    }
   ],
   "source": [
    "text"
   ]
  },
  {
   "cell_type": "code",
   "execution_count": null,
   "id": "9fc1f4b8",
   "metadata": {},
   "outputs": [],
   "source": []
  }
 ],
 "metadata": {
  "kernelspec": {
   "display_name": "Python 3 (ipykernel)",
   "language": "python",
   "name": "python3"
  },
  "language_info": {
   "codemirror_mode": {
    "name": "ipython",
    "version": 3
   },
   "file_extension": ".py",
   "mimetype": "text/x-python",
   "name": "python",
   "nbconvert_exporter": "python",
   "pygments_lexer": "ipython3",
   "version": "3.8.10"
  }
 },
 "nbformat": 4,
 "nbformat_minor": 5
}
