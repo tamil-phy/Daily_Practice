{
 "cells": [
  {
   "cell_type": "markdown",
   "id": "ddf1f929",
   "metadata": {},
   "source": [
    "# Find the Maximum Value"
   ]
  },
  {
   "cell_type": "code",
   "execution_count": 4,
   "id": "337de3e3",
   "metadata": {},
   "outputs": [],
   "source": [
    "nums = list()"
   ]
  },
  {
   "cell_type": "code",
   "execution_count": 6,
   "id": "e6cddfe4",
   "metadata": {},
   "outputs": [],
   "source": [
    "def maximum_val(nums):\n",
    "    maximum = float('-inf')\n",
    "    for num in nums:\n",
    "        if num > maximum:\n",
    "            maximum = num\n",
    "    return maximum\n",
    "        \n",
    "    \n",
    "    "
   ]
  },
  {
   "cell_type": "code",
   "execution_count": 7,
   "id": "da61776a",
   "metadata": {},
   "outputs": [
    {
     "data": {
      "text/plain": [
       "4"
      ]
     },
     "execution_count": 7,
     "metadata": {},
     "output_type": "execute_result"
    }
   ],
   "source": [
    "maximum_val([1,2,3,4])"
   ]
  },
  {
   "cell_type": "code",
   "execution_count": 23,
   "id": "b04d7faa",
   "metadata": {},
   "outputs": [
    {
     "ename": "ValueError",
     "evalue": "invalid literal for int() with base 10: '-f'",
     "output_type": "error",
     "traceback": [
      "\u001b[0;31m---------------------------------------------------------------------------\u001b[0m",
      "\u001b[0;31mValueError\u001b[0m                                Traceback (most recent call last)",
      "Input \u001b[0;32mIn [23]\u001b[0m, in \u001b[0;36m<cell line: 12>\u001b[0;34m()\u001b[0m\n\u001b[1;32m      9\u001b[0m             \u001b[38;5;28mmax\u001b[39m \u001b[38;5;241m=\u001b[39m \u001b[38;5;28mint\u001b[39m(num)\n\u001b[1;32m     10\u001b[0m     \u001b[38;5;28;01mreturn\u001b[39;00m (\u001b[38;5;28mmax\u001b[39m)\n\u001b[0;32m---> 12\u001b[0m \u001b[38;5;28mprint\u001b[39m(\u001b[38;5;124m'\u001b[39m\u001b[38;5;124mMAXIMUM VALUE:\u001b[39m\u001b[38;5;124m'\u001b[39m,\u001b[43mmaximum_val\u001b[49m\u001b[43m(\u001b[49m\u001b[43marr\u001b[49m\u001b[43m)\u001b[49m)\n",
      "Input \u001b[0;32mIn [23]\u001b[0m, in \u001b[0;36mmaximum_val\u001b[0;34m(nums)\u001b[0m\n\u001b[1;32m      6\u001b[0m \u001b[38;5;28mmax\u001b[39m \u001b[38;5;241m=\u001b[39m \u001b[38;5;241m0\u001b[39m\n\u001b[1;32m      7\u001b[0m \u001b[38;5;28;01mfor\u001b[39;00m num \u001b[38;5;129;01min\u001b[39;00m nums:\n\u001b[0;32m----> 8\u001b[0m     \u001b[38;5;28;01mif\u001b[39;00m \u001b[38;5;28;43mint\u001b[39;49m\u001b[43m(\u001b[49m\u001b[43mnum\u001b[49m\u001b[43m)\u001b[49m \u001b[38;5;241m>\u001b[39m \u001b[38;5;28mmax\u001b[39m:\n\u001b[1;32m      9\u001b[0m         \u001b[38;5;28mmax\u001b[39m \u001b[38;5;241m=\u001b[39m \u001b[38;5;28mint\u001b[39m(num)\n\u001b[1;32m     10\u001b[0m \u001b[38;5;28;01mreturn\u001b[39;00m (\u001b[38;5;28mmax\u001b[39m)\n",
      "\u001b[0;31mValueError\u001b[0m: invalid literal for int() with base 10: '-f'"
     ]
    }
   ],
   "source": []
  },
  {
   "cell_type": "markdown",
   "id": "478e507e",
   "metadata": {},
   "source": [
    "# Whether the given number is a Prime or Not"
   ]
  },
  {
   "cell_type": "code",
   "execution_count": 8,
   "id": "7cf246e7",
   "metadata": {},
   "outputs": [],
   "source": [
    "def is_prime(n):\n",
    "    if n < 2:\n",
    "        return False\n",
    "    for i in range(2,n):\n",
    "        if n%i==0:\n",
    "            return False\n",
    "    return True    "
   ]
  },
  {
   "cell_type": "code",
   "execution_count": 9,
   "id": "51e6f747",
   "metadata": {},
   "outputs": [
    {
     "data": {
      "text/plain": [
       "True"
      ]
     },
     "execution_count": 9,
     "metadata": {},
     "output_type": "execute_result"
    }
   ],
   "source": [
    "is_prime(7)"
   ]
  },
  {
   "cell_type": "code",
   "execution_count": 10,
   "id": "7da043e8",
   "metadata": {},
   "outputs": [
    {
     "data": {
      "text/plain": [
       "False"
      ]
     },
     "execution_count": 10,
     "metadata": {},
     "output_type": "execute_result"
    }
   ],
   "source": [
    "is_prime(14)"
   ]
  },
  {
   "cell_type": "markdown",
   "id": "8a7539c6",
   "metadata": {},
   "source": [
    "# Using sqrt"
   ]
  },
  {
   "cell_type": "code",
   "execution_count": 21,
   "id": "66d0b087",
   "metadata": {},
   "outputs": [],
   "source": [
    "from math import sqrt\n",
    "def prime(n):\n",
    "    if n<2:\n",
    "        return False\n",
    "    for i in range(2,int(sqrt(n)+1)):\n",
    "        if n%i ==0:\n",
    "            return False\n",
    "    return True    "
   ]
  },
  {
   "cell_type": "code",
   "execution_count": 22,
   "id": "78c17598",
   "metadata": {},
   "outputs": [
    {
     "data": {
      "text/plain": [
       "False"
      ]
     },
     "execution_count": 22,
     "metadata": {},
     "output_type": "execute_result"
    }
   ],
   "source": [
    "prime(144)"
   ]
  },
  {
   "cell_type": "code",
   "execution_count": null,
   "id": "e5894170",
   "metadata": {},
   "outputs": [],
   "source": []
  }
 ],
 "metadata": {
  "kernelspec": {
   "display_name": "Python 3 (ipykernel)",
   "language": "python",
   "name": "python3"
  },
  "language_info": {
   "codemirror_mode": {
    "name": "ipython",
    "version": 3
   },
   "file_extension": ".py",
   "mimetype": "text/x-python",
   "name": "python",
   "nbconvert_exporter": "python",
   "pygments_lexer": "ipython3",
   "version": "3.8.10"
  }
 },
 "nbformat": 4,
 "nbformat_minor": 5
}
