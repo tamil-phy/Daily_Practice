{
 "cells": [
  {
   "cell_type": "markdown",
   "id": "499f3280",
   "metadata": {},
   "source": [
    "# NUMPY"
   ]
  },
  {
   "cell_type": "markdown",
   "id": "b4d5b393",
   "metadata": {},
   "source": []
  },
  {
   "cell_type": "code",
   "execution_count": 1,
   "id": "506b831c",
   "metadata": {},
   "outputs": [],
   "source": [
    "import numpy as np\n",
    "import time\n",
    "import random"
   ]
  },
  {
   "cell_type": "code",
   "execution_count": 2,
   "id": "85af89e7",
   "metadata": {},
   "outputs": [],
   "source": [
    "n = 1000000\n",
    "a = [random.random() for i in range(n)]\n",
    "b = [random.random() for i in range(n)]"
   ]
  },
  {
   "cell_type": "code",
   "execution_count": 3,
   "id": "2c32f463",
   "metadata": {},
   "outputs": [
    {
     "name": "stdout",
     "output_type": "stream",
     "text": [
      "comprehension: 0.35959863662719727\n"
     ]
    }
   ],
   "source": [
    "s = time.time()\n",
    "c = [a[i]*b[i] for i in range(n)]\n",
    "print(\"comprehension:\", time.time()-s)"
   ]
  },
  {
   "cell_type": "code",
   "execution_count": 4,
   "id": "181c4334",
   "metadata": {},
   "outputs": [
    {
     "name": "stdout",
     "output_type": "stream",
     "text": [
      "for loop: 0.2710745334625244\n"
     ]
    }
   ],
   "source": [
    "s = time.time()\n",
    "c = []\n",
    "for i in range(n):\n",
    "    c.append(a[i]*b[i])\n",
    "print(\"for loop:\", time.time()-s)"
   ]
  },
  {
   "cell_type": "code",
   "execution_count": 5,
   "id": "32b36c46",
   "metadata": {},
   "outputs": [
    {
     "name": "stdout",
     "output_type": "stream",
     "text": [
      "existing list: 0.28252458572387695\n"
     ]
    }
   ],
   "source": [
    "s = time.time()\n",
    "c = [0]*n\n",
    "for i in range(n):\n",
    "    c[i] = a[i]*b[i]\n",
    "print(\"existing list:\", time.time()-s)    "
   ]
  },
  {
   "cell_type": "code",
   "execution_count": 7,
   "id": "095812a7",
   "metadata": {},
   "outputs": [
    {
     "name": "stdout",
     "output_type": "stream",
     "text": [
      "Numpy time: 0.0028679370880126953\n"
     ]
    }
   ],
   "source": [
    "x = np.array(a)\n",
    "y = np.array(b)\n",
    "s = time.time()\n",
    "c =x*y\n",
    "print(\"Numpy time:\", time.time()-s)"
   ]
  },
  {
   "cell_type": "markdown",
   "id": "67fa89e9",
   "metadata": {},
   "source": [
    "# Defining an Array"
   ]
  },
  {
   "cell_type": "code",
   "execution_count": 8,
   "id": "51b06082",
   "metadata": {},
   "outputs": [],
   "source": [
    "import numpy as np"
   ]
  },
  {
   "cell_type": "code",
   "execution_count": 9,
   "id": "6359a771",
   "metadata": {},
   "outputs": [],
   "source": [
    "a = np.array([1,2,3,4])"
   ]
  },
  {
   "cell_type": "code",
   "execution_count": 10,
   "id": "0a00affc",
   "metadata": {},
   "outputs": [
    {
     "data": {
      "text/plain": [
       "array([1, 2, 3, 4])"
      ]
     },
     "execution_count": 10,
     "metadata": {},
     "output_type": "execute_result"
    }
   ],
   "source": [
    "a"
   ]
  },
  {
   "cell_type": "code",
   "execution_count": 11,
   "id": "d7401f84",
   "metadata": {},
   "outputs": [
    {
     "data": {
      "text/plain": [
       "4"
      ]
     },
     "execution_count": 11,
     "metadata": {},
     "output_type": "execute_result"
    }
   ],
   "source": [
    "a.size"
   ]
  },
  {
   "cell_type": "code",
   "execution_count": 12,
   "id": "b28f0149",
   "metadata": {},
   "outputs": [
    {
     "data": {
      "text/plain": [
       "(4,)"
      ]
     },
     "execution_count": 12,
     "metadata": {},
     "output_type": "execute_result"
    }
   ],
   "source": [
    "a.shape"
   ]
  },
  {
   "cell_type": "code",
   "execution_count": 14,
   "id": "d765ed39",
   "metadata": {},
   "outputs": [
    {
     "data": {
      "text/plain": [
       "dtype('int64')"
      ]
     },
     "execution_count": 14,
     "metadata": {},
     "output_type": "execute_result"
    }
   ],
   "source": [
    "a.dtype"
   ]
  },
  {
   "cell_type": "code",
   "execution_count": 16,
   "id": "9b0a29b4",
   "metadata": {},
   "outputs": [],
   "source": [
    "d =  np.array([[1,2,3],[4,5,6],[7,8,9]])"
   ]
  },
  {
   "cell_type": "code",
   "execution_count": 17,
   "id": "6907d9ec",
   "metadata": {},
   "outputs": [
    {
     "data": {
      "text/plain": [
       "(3, 3)"
      ]
     },
     "execution_count": 17,
     "metadata": {},
     "output_type": "execute_result"
    }
   ],
   "source": [
    "d.shape"
   ]
  },
  {
   "cell_type": "code",
   "execution_count": 18,
   "id": "e0b92a8a",
   "metadata": {},
   "outputs": [
    {
     "data": {
      "text/plain": [
       "9"
      ]
     },
     "execution_count": 18,
     "metadata": {},
     "output_type": "execute_result"
    }
   ],
   "source": [
    "d.size"
   ]
  },
  {
   "cell_type": "code",
   "execution_count": 19,
   "id": "6fe2a92e",
   "metadata": {},
   "outputs": [
    {
     "data": {
      "text/plain": [
       "array([[1, 2, 3],\n",
       "       [4, 5, 6],\n",
       "       [7, 8, 9]])"
      ]
     },
     "execution_count": 19,
     "metadata": {},
     "output_type": "execute_result"
    }
   ],
   "source": [
    "d"
   ]
  },
  {
   "cell_type": "code",
   "execution_count": 21,
   "id": "b5b983cf",
   "metadata": {},
   "outputs": [],
   "source": [
    "e = np.array([[[1,11,111],[2,22,222]],[[3,33,333],[4,44,444]]])"
   ]
  },
  {
   "cell_type": "code",
   "execution_count": 22,
   "id": "91ab74a6",
   "metadata": {},
   "outputs": [
    {
     "data": {
      "text/plain": [
       "(2, 2, 3)"
      ]
     },
     "execution_count": 22,
     "metadata": {},
     "output_type": "execute_result"
    }
   ],
   "source": [
    "e.shape"
   ]
  },
  {
   "cell_type": "code",
   "execution_count": null,
   "id": "d90a325c",
   "metadata": {},
   "outputs": [],
   "source": []
  }
 ],
 "metadata": {
  "kernelspec": {
   "display_name": "Python 3 (ipykernel)",
   "language": "python",
   "name": "python3"
  },
  "language_info": {
   "codemirror_mode": {
    "name": "ipython",
    "version": 3
   },
   "file_extension": ".py",
   "mimetype": "text/x-python",
   "name": "python",
   "nbconvert_exporter": "python",
   "pygments_lexer": "ipython3",
   "version": "3.8.10"
  }
 },
 "nbformat": 4,
 "nbformat_minor": 5
}
