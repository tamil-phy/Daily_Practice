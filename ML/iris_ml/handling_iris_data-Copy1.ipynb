{
 "cells": [
  {
   "cell_type": "code",
   "execution_count": 1,
   "id": "5c4874e4",
   "metadata": {},
   "outputs": [],
   "source": [
    "import numpy as np"
   ]
  },
  {
   "cell_type": "markdown",
   "id": "78e7f597",
   "metadata": {},
   "source": [
    "**The below command reads a file line by line into list**"
   ]
  },
  {
   "cell_type": "code",
   "execution_count": 2,
   "id": "5a23fd06",
   "metadata": {},
   "outputs": [],
   "source": [
    "with open(\"./iris.data\") as f:\n",
    "    lines = [i[:-1] for i in f.readlines()]"
   ]
  },
  {
   "cell_type": "code",
   "execution_count": 3,
   "id": "f467b61f",
   "metadata": {},
   "outputs": [],
   "source": [
    "n = [\"Iris-setosa\", \"Iris-versicolor\", \"Iris-virginica\"]\n",
    "x = [n.index(i.split(\",\")[-1]) for i in lines if i != \"\"]\n",
    "x = np.array(x, dtype=\"uint8\")"
   ]
  },
  {
   "cell_type": "code",
   "execution_count": 4,
   "id": "67825ebf",
   "metadata": {},
   "outputs": [],
   "source": [
    "y = [[float(j) for j in i.split(\",\")[:-1]] for i in lines if i != \"\"]\n",
    "y = np.array(y)"
   ]
  },
  {
   "cell_type": "code",
   "execution_count": 5,
   "id": "4db1308d",
   "metadata": {},
   "outputs": [],
   "source": [
    "i = np.argsort(np.random.random(x.shape[0]))"
   ]
  },
  {
   "cell_type": "code",
   "execution_count": 6,
   "id": "59c233c9",
   "metadata": {},
   "outputs": [],
   "source": [
    "x = x[i]\n",
    "y = y[i]"
   ]
  },
  {
   "cell_type": "code",
   "execution_count": 7,
   "id": "e10d69d0",
   "metadata": {},
   "outputs": [],
   "source": [
    "np.save(\"iris_features.npy\", y)\n",
    "np.save(\"iris_labels.npy\", x)"
   ]
  },
  {
   "cell_type": "markdown",
   "id": "a7ecb1a4",
   "metadata": {},
   "source": [
    "# Data Augmentation\n",
    "\n",
    "தற்போதுள்ள தரவுத்தொகுப்பில் உள்ள தரவை புதியதாக உருவாக்க தரவு பெருக்கம் பயன்படுத்துகிறது\n",
    "தொகுப்பில் சேர்க்க சாத்தியமான மாதிரிகள். இந்த மாதிரிகள் எப்போதும் சிலவற்றில் அடிப்படையாக இருக்கும்\n",
    "ஏற்கனவே உள்ள தரவுகளில். தரவு பெருக்கம் ஒரு சக்திவாய்ந்த நுட்பமாகும்\n",
    "எங்கள் உண்மையான தரவுத்தொகுப்பு சிறியதாக இருக்கும்போது குறிப்பாக உதவியாக இருக்கும்."
   ]
  },
  {
   "cell_type": "code",
   "execution_count": 8,
   "id": "8dd9629a",
   "metadata": {},
   "outputs": [],
   "source": [
    "import matplotlib.pyplot as plt\n",
    "from sklearn import decomposition"
   ]
  },
  {
   "cell_type": "code",
   "execution_count": 9,
   "id": "2537ce39",
   "metadata": {},
   "outputs": [],
   "source": [
    "x_1 = np.load(\"./iris_features.npy\")[:,:2]"
   ]
  },
  {
   "cell_type": "code",
   "execution_count": 10,
   "id": "ac2bdffb",
   "metadata": {},
   "outputs": [],
   "source": [
    "y_1 = np.load(\"./iris_labels.npy\")"
   ]
  },
  {
   "cell_type": "code",
   "execution_count": 11,
   "id": "a893866e",
   "metadata": {},
   "outputs": [],
   "source": [
    "idx = np.where(y != 0)"
   ]
  },
  {
   "cell_type": "code",
   "execution_count": 13,
   "id": "312a31d6",
   "metadata": {},
   "outputs": [
    {
     "ename": "IndexError",
     "evalue": "index 2 is out of bounds for axis 1 with size 2",
     "output_type": "error",
     "traceback": [
      "\u001b[0;31m---------------------------------------------------------------------------\u001b[0m",
      "\u001b[0;31mIndexError\u001b[0m                                Traceback (most recent call last)",
      "Input \u001b[0;32mIn [13]\u001b[0m, in \u001b[0;36m<cell line: 1>\u001b[0;34m()\u001b[0m\n\u001b[0;32m----> 1\u001b[0m x_1 \u001b[38;5;241m=\u001b[39m \u001b[43mx_1\u001b[49m\u001b[43m[\u001b[49m\u001b[43midx\u001b[49m\u001b[43m]\u001b[49m\n",
      "\u001b[0;31mIndexError\u001b[0m: index 2 is out of bounds for axis 1 with size 2"
     ]
    }
   ],
   "source": [
    "x_1 = x_1[idx] "
   ]
  },
  {
   "cell_type": "code",
   "execution_count": null,
   "id": "8acea905",
   "metadata": {},
   "outputs": [],
   "source": []
  }
 ],
 "metadata": {
  "kernelspec": {
   "display_name": "Python 3 (ipykernel)",
   "language": "python",
   "name": "python3"
  },
  "language_info": {
   "codemirror_mode": {
    "name": "ipython",
    "version": 3
   },
   "file_extension": ".py",
   "mimetype": "text/x-python",
   "name": "python",
   "nbconvert_exporter": "python",
   "pygments_lexer": "ipython3",
   "version": "3.8.10"
  }
 },
 "nbformat": 4,
 "nbformat_minor": 5
}
