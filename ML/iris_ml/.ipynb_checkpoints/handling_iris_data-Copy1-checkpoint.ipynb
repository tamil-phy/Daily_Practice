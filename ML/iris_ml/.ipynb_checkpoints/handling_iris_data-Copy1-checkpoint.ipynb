{
 "cells": [
  {
   "cell_type": "code",
   "execution_count": 1,
   "id": "5c4874e4",
   "metadata": {},
   "outputs": [],
   "source": [
    "import numpy as np"
   ]
  },
  {
   "cell_type": "markdown",
   "id": "78e7f597",
   "metadata": {},
   "source": [
    "**The below command reads a file line by line into list**"
   ]
  },
  {
   "cell_type": "code",
   "execution_count": 3,
   "id": "5a23fd06",
   "metadata": {},
   "outputs": [],
   "source": [
    "with open(\"./iris.data\") as f:\n",
    "    lines = [i[:-1] for i in f.readlines()]"
   ]
  },
  {
   "cell_type": "code",
   "execution_count": 4,
   "id": "d88de498",
   "metadata": {},
   "outputs": [
    {
     "data": {
      "text/plain": [
       "['5.1,3.5,1.4,0.2,Iris-setosa',\n",
       " '4.9,3.0,1.4,0.2,Iris-setosa',\n",
       " '4.7,3.2,1.3,0.2,Iris-setosa',\n",
       " '4.6,3.1,1.5,0.2,Iris-setosa',\n",
       " '5.0,3.6,1.4,0.2,Iris-setosa',\n",
       " '5.4,3.9,1.7,0.4,Iris-setosa',\n",
       " '4.6,3.4,1.4,0.3,Iris-setosa',\n",
       " '5.0,3.4,1.5,0.2,Iris-setosa',\n",
       " '4.4,2.9,1.4,0.2,Iris-setosa',\n",
       " '4.9,3.1,1.5,0.1,Iris-setosa',\n",
       " '5.4,3.7,1.5,0.2,Iris-setosa',\n",
       " '4.8,3.4,1.6,0.2,Iris-setosa',\n",
       " '4.8,3.0,1.4,0.1,Iris-setosa',\n",
       " '4.3,3.0,1.1,0.1,Iris-setosa',\n",
       " '5.8,4.0,1.2,0.2,Iris-setosa',\n",
       " '5.7,4.4,1.5,0.4,Iris-setosa',\n",
       " '5.4,3.9,1.3,0.4,Iris-setosa',\n",
       " '5.1,3.5,1.4,0.3,Iris-setosa',\n",
       " '5.7,3.8,1.7,0.3,Iris-setosa',\n",
       " '5.1,3.8,1.5,0.3,Iris-setosa',\n",
       " '5.4,3.4,1.7,0.2,Iris-setosa',\n",
       " '5.1,3.7,1.5,0.4,Iris-setosa',\n",
       " '4.6,3.6,1.0,0.2,Iris-setosa',\n",
       " '5.1,3.3,1.7,0.5,Iris-setosa',\n",
       " '4.8,3.4,1.9,0.2,Iris-setosa',\n",
       " '5.0,3.0,1.6,0.2,Iris-setosa',\n",
       " '5.0,3.4,1.6,0.4,Iris-setosa',\n",
       " '5.2,3.5,1.5,0.2,Iris-setosa',\n",
       " '5.2,3.4,1.4,0.2,Iris-setosa',\n",
       " '4.7,3.2,1.6,0.2,Iris-setosa',\n",
       " '4.8,3.1,1.6,0.2,Iris-setosa',\n",
       " '5.4,3.4,1.5,0.4,Iris-setosa',\n",
       " '5.2,4.1,1.5,0.1,Iris-setosa',\n",
       " '5.5,4.2,1.4,0.2,Iris-setosa',\n",
       " '4.9,3.1,1.5,0.1,Iris-setosa',\n",
       " '5.0,3.2,1.2,0.2,Iris-setosa',\n",
       " '5.5,3.5,1.3,0.2,Iris-setosa',\n",
       " '4.9,3.1,1.5,0.1,Iris-setosa',\n",
       " '4.4,3.0,1.3,0.2,Iris-setosa',\n",
       " '5.1,3.4,1.5,0.2,Iris-setosa',\n",
       " '5.0,3.5,1.3,0.3,Iris-setosa',\n",
       " '4.5,2.3,1.3,0.3,Iris-setosa',\n",
       " '4.4,3.2,1.3,0.2,Iris-setosa',\n",
       " '5.0,3.5,1.6,0.6,Iris-setosa',\n",
       " '5.1,3.8,1.9,0.4,Iris-setosa',\n",
       " '4.8,3.0,1.4,0.3,Iris-setosa',\n",
       " '5.1,3.8,1.6,0.2,Iris-setosa',\n",
       " '4.6,3.2,1.4,0.2,Iris-setosa',\n",
       " '5.3,3.7,1.5,0.2,Iris-setosa',\n",
       " '5.0,3.3,1.4,0.2,Iris-setosa',\n",
       " '7.0,3.2,4.7,1.4,Iris-versicolor',\n",
       " '6.4,3.2,4.5,1.5,Iris-versicolor',\n",
       " '6.9,3.1,4.9,1.5,Iris-versicolor',\n",
       " '5.5,2.3,4.0,1.3,Iris-versicolor',\n",
       " '6.5,2.8,4.6,1.5,Iris-versicolor',\n",
       " '5.7,2.8,4.5,1.3,Iris-versicolor',\n",
       " '6.3,3.3,4.7,1.6,Iris-versicolor',\n",
       " '4.9,2.4,3.3,1.0,Iris-versicolor',\n",
       " '6.6,2.9,4.6,1.3,Iris-versicolor',\n",
       " '5.2,2.7,3.9,1.4,Iris-versicolor',\n",
       " '5.0,2.0,3.5,1.0,Iris-versicolor',\n",
       " '5.9,3.0,4.2,1.5,Iris-versicolor',\n",
       " '6.0,2.2,4.0,1.0,Iris-versicolor',\n",
       " '6.1,2.9,4.7,1.4,Iris-versicolor',\n",
       " '5.6,2.9,3.6,1.3,Iris-versicolor',\n",
       " '6.7,3.1,4.4,1.4,Iris-versicolor',\n",
       " '5.6,3.0,4.5,1.5,Iris-versicolor',\n",
       " '5.8,2.7,4.1,1.0,Iris-versicolor',\n",
       " '6.2,2.2,4.5,1.5,Iris-versicolor',\n",
       " '5.6,2.5,3.9,1.1,Iris-versicolor',\n",
       " '5.9,3.2,4.8,1.8,Iris-versicolor',\n",
       " '6.1,2.8,4.0,1.3,Iris-versicolor',\n",
       " '6.3,2.5,4.9,1.5,Iris-versicolor',\n",
       " '6.1,2.8,4.7,1.2,Iris-versicolor',\n",
       " '6.4,2.9,4.3,1.3,Iris-versicolor',\n",
       " '6.6,3.0,4.4,1.4,Iris-versicolor',\n",
       " '6.8,2.8,4.8,1.4,Iris-versicolor',\n",
       " '6.7,3.0,5.0,1.7,Iris-versicolor',\n",
       " '6.0,2.9,4.5,1.5,Iris-versicolor',\n",
       " '5.7,2.6,3.5,1.0,Iris-versicolor',\n",
       " '5.5,2.4,3.8,1.1,Iris-versicolor',\n",
       " '5.5,2.4,3.7,1.0,Iris-versicolor',\n",
       " '5.8,2.7,3.9,1.2,Iris-versicolor',\n",
       " '6.0,2.7,5.1,1.6,Iris-versicolor',\n",
       " '5.4,3.0,4.5,1.5,Iris-versicolor',\n",
       " '6.0,3.4,4.5,1.6,Iris-versicolor',\n",
       " '6.7,3.1,4.7,1.5,Iris-versicolor',\n",
       " '6.3,2.3,4.4,1.3,Iris-versicolor',\n",
       " '5.6,3.0,4.1,1.3,Iris-versicolor',\n",
       " '5.5,2.5,4.0,1.3,Iris-versicolor',\n",
       " '5.5,2.6,4.4,1.2,Iris-versicolor',\n",
       " '6.1,3.0,4.6,1.4,Iris-versicolor',\n",
       " '5.8,2.6,4.0,1.2,Iris-versicolor',\n",
       " '5.0,2.3,3.3,1.0,Iris-versicolor',\n",
       " '5.6,2.7,4.2,1.3,Iris-versicolor',\n",
       " '5.7,3.0,4.2,1.2,Iris-versicolor',\n",
       " '5.7,2.9,4.2,1.3,Iris-versicolor',\n",
       " '6.2,2.9,4.3,1.3,Iris-versicolor',\n",
       " '5.1,2.5,3.0,1.1,Iris-versicolor',\n",
       " '5.7,2.8,4.1,1.3,Iris-versicolor',\n",
       " '6.3,3.3,6.0,2.5,Iris-virginica',\n",
       " '5.8,2.7,5.1,1.9,Iris-virginica',\n",
       " '7.1,3.0,5.9,2.1,Iris-virginica',\n",
       " '6.3,2.9,5.6,1.8,Iris-virginica',\n",
       " '6.5,3.0,5.8,2.2,Iris-virginica',\n",
       " '7.6,3.0,6.6,2.1,Iris-virginica',\n",
       " '4.9,2.5,4.5,1.7,Iris-virginica',\n",
       " '7.3,2.9,6.3,1.8,Iris-virginica',\n",
       " '6.7,2.5,5.8,1.8,Iris-virginica',\n",
       " '7.2,3.6,6.1,2.5,Iris-virginica',\n",
       " '6.5,3.2,5.1,2.0,Iris-virginica',\n",
       " '6.4,2.7,5.3,1.9,Iris-virginica',\n",
       " '6.8,3.0,5.5,2.1,Iris-virginica',\n",
       " '5.7,2.5,5.0,2.0,Iris-virginica',\n",
       " '5.8,2.8,5.1,2.4,Iris-virginica',\n",
       " '6.4,3.2,5.3,2.3,Iris-virginica',\n",
       " '6.5,3.0,5.5,1.8,Iris-virginica',\n",
       " '7.7,3.8,6.7,2.2,Iris-virginica',\n",
       " '7.7,2.6,6.9,2.3,Iris-virginica',\n",
       " '6.0,2.2,5.0,1.5,Iris-virginica',\n",
       " '6.9,3.2,5.7,2.3,Iris-virginica',\n",
       " '5.6,2.8,4.9,2.0,Iris-virginica',\n",
       " '7.7,2.8,6.7,2.0,Iris-virginica',\n",
       " '6.3,2.7,4.9,1.8,Iris-virginica',\n",
       " '6.7,3.3,5.7,2.1,Iris-virginica',\n",
       " '7.2,3.2,6.0,1.8,Iris-virginica',\n",
       " '6.2,2.8,4.8,1.8,Iris-virginica',\n",
       " '6.1,3.0,4.9,1.8,Iris-virginica',\n",
       " '6.4,2.8,5.6,2.1,Iris-virginica',\n",
       " '7.2,3.0,5.8,1.6,Iris-virginica',\n",
       " '7.4,2.8,6.1,1.9,Iris-virginica',\n",
       " '7.9,3.8,6.4,2.0,Iris-virginica',\n",
       " '6.4,2.8,5.6,2.2,Iris-virginica',\n",
       " '6.3,2.8,5.1,1.5,Iris-virginica',\n",
       " '6.1,2.6,5.6,1.4,Iris-virginica',\n",
       " '7.7,3.0,6.1,2.3,Iris-virginica',\n",
       " '6.3,3.4,5.6,2.4,Iris-virginica',\n",
       " '6.4,3.1,5.5,1.8,Iris-virginica',\n",
       " '6.0,3.0,4.8,1.8,Iris-virginica',\n",
       " '6.9,3.1,5.4,2.1,Iris-virginica',\n",
       " '6.7,3.1,5.6,2.4,Iris-virginica',\n",
       " '6.9,3.1,5.1,2.3,Iris-virginica',\n",
       " '5.8,2.7,5.1,1.9,Iris-virginica',\n",
       " '6.8,3.2,5.9,2.3,Iris-virginica',\n",
       " '6.7,3.3,5.7,2.5,Iris-virginica',\n",
       " '6.7,3.0,5.2,2.3,Iris-virginica',\n",
       " '6.3,2.5,5.0,1.9,Iris-virginica',\n",
       " '6.5,3.0,5.2,2.0,Iris-virginica',\n",
       " '6.2,3.4,5.4,2.3,Iris-virginica',\n",
       " '5.9,3.0,5.1,1.8,Iris-virginica',\n",
       " '']"
      ]
     },
     "execution_count": 4,
     "metadata": {},
     "output_type": "execute_result"
    }
   ],
   "source": [
    "lines"
   ]
  },
  {
   "cell_type": "code",
   "execution_count": 14,
   "id": "f467b61f",
   "metadata": {},
   "outputs": [],
   "source": [
    "n = [\"Iris-setosa\", \"Iris-versicolor\", \"Iris-virginica\"]\n",
    "x = [n.index(i.split(\",\")[-1]) for i in lines if i != \"\"]\n",
    "x = np.array(x, dtype=\"uint8\")"
   ]
  },
  {
   "cell_type": "code",
   "execution_count": 19,
   "id": "6c51f26b",
   "metadata": {},
   "outputs": [
    {
     "data": {
      "text/plain": [
       "(150,)"
      ]
     },
     "execution_count": 19,
     "metadata": {},
     "output_type": "execute_result"
    }
   ],
   "source": [
    "x.shape"
   ]
  },
  {
   "cell_type": "code",
   "execution_count": 6,
   "id": "c26992d7",
   "metadata": {},
   "outputs": [],
   "source": [
    "a  = \"1,2,3,4\""
   ]
  },
  {
   "cell_type": "code",
   "execution_count": 10,
   "id": "d811e7a7",
   "metadata": {},
   "outputs": [
    {
     "data": {
      "text/plain": [
       "'4'"
      ]
     },
     "execution_count": 10,
     "metadata": {},
     "output_type": "execute_result"
    }
   ],
   "source": [
    "b=a.split(\",\")[-1]\n",
    "b"
   ]
  },
  {
   "cell_type": "code",
   "execution_count": 12,
   "id": "f29f5e72",
   "metadata": {},
   "outputs": [
    {
     "data": {
      "text/plain": [
       "'4'"
      ]
     },
     "execution_count": 12,
     "metadata": {},
     "output_type": "execute_result"
    }
   ],
   "source": [
    "c = a[-1] \n",
    "c"
   ]
  },
  {
   "cell_type": "code",
   "execution_count": 7,
   "id": "67825ebf",
   "metadata": {},
   "outputs": [],
   "source": [
    "y = [[float(j) for j in i.split(\",\")[:-1]] for i in lines if i != \"\"]\n",
    "y = np.array(y)"
   ]
  },
  {
   "cell_type": "code",
   "execution_count": 8,
   "id": "4db1308d",
   "metadata": {},
   "outputs": [],
   "source": [
    "i = np.argsort(np.random.random(x.shape[0]))"
   ]
  },
  {
   "cell_type": "code",
   "execution_count": 9,
   "id": "59c233c9",
   "metadata": {},
   "outputs": [],
   "source": [
    "x = x[i]\n",
    "y = y[i]"
   ]
  },
  {
   "cell_type": "code",
   "execution_count": 10,
   "id": "e10d69d0",
   "metadata": {},
   "outputs": [],
   "source": [
    "np.save(\"iris_features.npy\", y)\n",
    "np.save(\"iris_labels.npy\", x)"
   ]
  },
  {
   "cell_type": "markdown",
   "id": "a7ecb1a4",
   "metadata": {},
   "source": [
    "# Data Augmentation\n",
    "\n",
    "தற்போதுள்ள தரவுத்தொகுப்பில் உள்ள தரவை புதியதாக உருவாக்க தரவு பெருக்கம் பயன்படுத்துகிறது\n",
    "தொகுப்பில் சேர்க்க சாத்தியமான மாதிரிகள். இந்த மாதிரிகள் எப்போதும் சிலவற்றில் அடிப்படையாக இருக்கும்\n",
    "ஏற்கனவே உள்ள தரவுகளில். தரவு பெருக்கம் ஒரு சக்திவாய்ந்த நுட்பமாகும்\n",
    "எங்கள் உண்மையான தரவுத்தொகுப்பு சிறியதாக இருக்கும்போது குறிப்பாக உதவியாக இருக்கும்."
   ]
  },
  {
   "cell_type": "code",
   "execution_count": null,
   "id": "8dd9629a",
   "metadata": {},
   "outputs": [],
   "source": []
  }
 ],
 "metadata": {
  "kernelspec": {
   "display_name": "Python 3 (ipykernel)",
   "language": "python",
   "name": "python3"
  },
  "language_info": {
   "codemirror_mode": {
    "name": "ipython",
    "version": 3
   },
   "file_extension": ".py",
   "mimetype": "text/x-python",
   "name": "python",
   "nbconvert_exporter": "python",
   "pygments_lexer": "ipython3",
   "version": "3.8.10"
  }
 },
 "nbformat": 4,
 "nbformat_minor": 5
}
