{
 "cells": [
  {
   "cell_type": "code",
   "execution_count": 1,
   "id": "5c4874e4",
   "metadata": {},
   "outputs": [],
   "source": [
    "import numpy as np"
   ]
  },
  {
   "cell_type": "code",
   "execution_count": 4,
   "id": "5a23fd06",
   "metadata": {},
   "outputs": [],
   "source": [
    "with open(\"./data/iris.data\") as f:\n",
    "    lines = [i[:-1] for i in f.readlines()]"
   ]
  },
  {
   "cell_type": "code",
   "execution_count": 6,
   "id": "f467b61f",
   "metadata": {},
   "outputs": [],
   "source": [
    "n = [\"Iris-setosa\", \"Iris-versicolor\", \"Iris-virginica\"]\n",
    "x = [n.index(i.split(\",\")[-1]) for i in lines if i != \"\"]\n",
    "x = np.array(x, dtype=\"uint8\")"
   ]
  },
  {
   "cell_type": "code",
   "execution_count": 7,
   "id": "67825ebf",
   "metadata": {},
   "outputs": [],
   "source": [
    "y = [[float(j) for j in i.split(\",\")[:-1]] for i in lines if i != \"\"]\n",
    "y = np.array(y)"
   ]
  },
  {
   "cell_type": "code",
   "execution_count": 8,
   "id": "4db1308d",
   "metadata": {},
   "outputs": [],
   "source": [
    "i = np.argsort(np.random.random(x.shape[0]))"
   ]
  },
  {
   "cell_type": "code",
   "execution_count": 9,
   "id": "59c233c9",
   "metadata": {},
   "outputs": [],
   "source": [
    "x = x[i]\n",
    "y = y[i]"
   ]
  },
  {
   "cell_type": "code",
   "execution_count": 10,
   "id": "e10d69d0",
   "metadata": {},
   "outputs": [],
   "source": [
    "np.save(\"iris_features.npy\", y)\n",
    "np.save(\"iris_labels.npy\", x)"
   ]
  },
  {
   "cell_type": "markdown",
   "id": "a7ecb1a4",
   "metadata": {},
   "source": [
    "# Data Augmentation\n",
    "\n",
    "தற்போதுள்ள தரவுத்தொகுப்பில் உள்ள தரவை புதியதாக உருவாக்க தரவு பெருக்கம் பயன்படுத்துகிறது\n",
    "தொகுப்பில் சேர்க்க சாத்தியமான மாதிரிகள். இந்த மாதிரிகள் எப்போதும் சிலவற்றில் அடிப்படையாக இருக்கும்\n",
    "ஏற்கனவே உள்ள தரவுகளில். தரவு பெருக்கம் ஒரு சக்திவாய்ந்த நுட்பமாகும்\n",
    "எங்கள் உண்மையான தரவுத்தொகுப்பு சிறியதாக இருக்கும்போது குறிப்பாக உதவியாக இருக்கும்."
   ]
  },
  {
   "cell_type": "code",
   "execution_count": null,
   "id": "8dd9629a",
   "metadata": {},
   "outputs": [],
   "source": []
  }
 ],
 "metadata": {
  "kernelspec": {
   "display_name": "Python 3 (ipykernel)",
   "language": "python",
   "name": "python3"
  },
  "language_info": {
   "codemirror_mode": {
    "name": "ipython",
    "version": 3
   },
   "file_extension": ".py",
   "mimetype": "text/x-python",
   "name": "python",
   "nbconvert_exporter": "python",
   "pygments_lexer": "ipython3",
   "version": "3.8.10"
  }
 },
 "nbformat": 4,
 "nbformat_minor": 5
}
